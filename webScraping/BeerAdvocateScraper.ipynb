{
 "metadata": {
  "name": "",
  "signature": "sha256:0b122d2302073ee1837072f48d07adcd6ce4f266131cc8638888f29e9ec31839"
 },
 "nbformat": 3,
 "nbformat_minor": 0,
 "worksheets": [
  {
   "cells": [
    {
     "cell_type": "heading",
     "level": 1,
     "metadata": {},
     "source": [
      "Web Tor Control"
     ]
    },
    {
     "cell_type": "code",
     "collapsed": false,
     "input": [
      "from TorCtl import TorCtl\n",
      "import grequests\n",
      "from time import sleep"
     ],
     "language": "python",
     "metadata": {},
     "outputs": [],
     "prompt_number": 29
    },
    {
     "cell_type": "code",
     "collapsed": false,
     "input": [
      "# Create a pool to hold asynchronous requests. The currently limit is 100 at a time\n",
      "req_pool = grequests.Pool(100)"
     ],
     "language": "python",
     "metadata": {},
     "outputs": [],
     "prompt_number": 31
    },
    {
     "cell_type": "code",
     "collapsed": false,
     "input": [
      "def craw_landing(res, **kwargs):\n",
      "#    print res.content\n",
      "    #print res.status_code\n",
      "#    10.2.1 200 OK\n",
      " #   if res.status_code == 200:\n",
      "        # It's okay, time to crawl the page\n",
      "#        print res.status_code\n",
      "#    else:\n",
      "        # Resubmit after a small waiting period\n",
      "#        print 'slept'\n",
      "#        sleep(2)\n",
      "#        req = grequests.get(res.url, headers=res.headers, hooks=dict(response=craw_landing), verify=False)\n",
      "        #res.url\n",
      "    res.close()\n",
      "    \n",
      "    #print kwargs['stream'] == True\n",
      "    \n",
      "headers={\"content-type\":\"text\"}\n",
      "req = grequests.get('http://www.stackoverflow.com', hooks=dict(response=craw_landing))\n",
      "\n",
      "for i in range(req_pool.free_count()):\n",
      "    job = grequests.send(req, req_pool)\n",
      "    print req_pool.free_count()\n",
      "    sleep(0.1)\n",
      "#print job.ready()"
     ],
     "language": "python",
     "metadata": {},
     "outputs": []
    },
    {
     "cell_type": "code",
     "collapsed": false,
     "input": [
      "#def class tor_controller:\n",
      "\n",
      "user_agent = 'Mozilla/5.0 (Windows; U; Windows NT 5.1; en-US; rv:1.9.0.7) Gecko/2009021910 Firefox/3.0.7'\n",
      "headers={'User-Agent':user_agent}\n",
      "#oldIP = '0.0.0.0'\n",
      "#newIP = '0.0.0.0'\n",
      "\n",
      "privoxy_port = \"127.0.0.1:8118\"\n",
      "tor_port = 9051\n",
      "tor_pass = 'mattman1'\n",
      "\n",
      "def do_something(response):\n",
      "    print response.url\n",
      "\n",
      "def request(url):\n",
      "    #def _set_urlproxy():\n",
      "    #    proxy_support = urllib2.ProxyHandler({\"http\" : privoxy_port})\n",
      "    #    opener = urllib2.build_opener(proxy_support)\n",
      "    #    urllib2.install_opener(opener)\n",
      "    #_set_urlproxy()\n",
      "    proxyDict = { \"http\"  : privoxy_port}\n",
      "    async.get(url, hooks = {'response' : do_something})\n",
      "    r = requests.get(url, proxies=proxyDict)\n",
      "    print r\n",
      " \n",
      "def renew_connection():\n",
      "    conn = TorCtl.connect(controlAddr=\"127.0.0.1\", controlPort=tor_port, passphrase=tor_pass)\n",
      "    conn.send_signal(\"NEWNYM\")\n",
      "    conn.close()\n",
      "\n",
      "request('http://icanhazip.com/')"
     ],
     "language": "python",
     "metadata": {},
     "outputs": []
    },
    {
     "cell_type": "heading",
     "level": 1,
     "metadata": {},
     "source": [
      "Web Scraper"
     ]
    },
    {
     "cell_type": "code",
     "collapsed": false,
     "input": [
      "from pattern.web import URL, Document, plaintext\n",
      "from pattern.web import NODE, TEXT, COMMENT, ELEMENT, DOCUMENT\n",
      "from pattern.web import abs\n",
      "\n",
      "import json\n",
      "import csv"
     ],
     "language": "python",
     "metadata": {},
     "outputs": [],
     "prompt_number": 15
    },
    {
     "cell_type": "code",
     "collapsed": false,
     "input": [
      "# Create the final output CSV for the beers\n",
      "beerData = open(\"beerData.csv\", 'w')\n",
      "classPullList = [\"BAscore_big ba-score\",\"ba-score_text\",\"ba-ratings\",\"BAscore_big ba-bro_score\",\"ba-bro_text\",\"ba-reviews\",\"ba-ravg\",\"ba-pdev\"]\n",
      "fields = [\"Beer Style\", \"Beer Name\"] + classPullList\n",
      "beerWriter = csv.writer(beerData)\n",
      "beerWriter.writerow(fields)\n"
     ],
     "language": "python",
     "metadata": {},
     "outputs": [],
     "prompt_number": 16
    },
    {
     "cell_type": "code",
     "collapsed": false,
     "input": [
      "# Retrieve the list of all the styles of beer w/ their links from the main site\n",
      "mainSite = \"http://www.beeradvocate.com\"\n",
      "query = '?start='\n",
      "\n",
      "url = URL('http://www.beeradvocate.com/beer/style/')\n",
      "domMain = Document(url.download(Cache=True))\n",
      "tableMain = domMain.by_tag('table')[0]\n",
      "beerStyles = tableMain.by_tag('a')"
     ],
     "language": "python",
     "metadata": {},
     "outputs": [],
     "prompt_number": 17
    },
    {
     "cell_type": "code",
     "collapsed": false,
     "input": [
      "for eachStyle in beerStyles:\n",
      "    #print eachStyle.content # If you need to get the Style of Beer\n",
      "    styleURLString = mainSite + eachStyle.attributes['href']\n",
      "    styleURL = URL(styleURLString)\n",
      "    \n",
      "    domStyle = Document(styleURL.download())\n",
      "    styleTable = domStyle.by_tag('table')\n",
      "    \n",
      "    #print styleURL\n",
      "    howMany = styleTable[0].by_tag('b')[0].content.split()\n",
      "    howManyInt = int(howMany[8].replace(\")\",\"\"))\n",
      "    queryList = range(0,howManyInt,50)\n",
      "    \n",
      "    for eachQuery in queryList:\n",
      "        beerStyleQuery = URL(styleURLString+query+str(eachQuery))\n",
      "        beerStyleTable = Document(beerStyleQuery.download()).by_tag('table')[0]\n",
      "        beerStyleTableRows = beerStyleTable.by_tag('tr')\n",
      "        del beerStyleTableRows[0]\n",
      "        del beerStyleTableRows[0]\n",
      "        del beerStyleTableRows[0]\n",
      "        del beerStyleTableRows[len(beerStyleTableRows)-1]\n",
      "        for row in beerStyleTableRows:\n",
      "            beerBit = row.by_tag('a')[0]\n",
      "            beerName = beerBit.by_tag('b')[0].content\n",
      "            beerURL = URL(mainSite + beerBit.attributes['href'])\n",
      "            beerDOM = Document(beerURL.download())\n",
      "            eachLine = [eachStyle.content.encode('utf-8'), beerName.encode('utf-8')]\n",
      "            for aClass in classPullList:\n",
      "                aField = beerDOM.getElementsByClassname(aClass)[0].content\n",
      "                eachLine = eachLine + [aField.encode('utf-8')]\n",
      "            beerWriter.writerow(eachLine)\n",
      "        \n",
      "        break\n",
      "    break\n",
      "    \n"
     ],
     "language": "python",
     "metadata": {},
     "outputs": [
      {
       "ename": "URLError",
       "evalue": "<urlopen error [Errno -2] Name or service not known>",
       "output_type": "pyerr",
       "traceback": [
        "\u001b[0;31m---------------------------------------------------------------------------\u001b[0m\n\u001b[0;31mURLError\u001b[0m                                  Traceback (most recent call last)",
        "\u001b[0;32m<ipython-input-18-a0c85c361273>\u001b[0m in \u001b[0;36m<module>\u001b[0;34m()\u001b[0m\n\u001b[1;32m     24\u001b[0m             \u001b[0mbeerName\u001b[0m \u001b[0;34m=\u001b[0m \u001b[0mbeerBit\u001b[0m\u001b[0;34m.\u001b[0m\u001b[0mby_tag\u001b[0m\u001b[0;34m(\u001b[0m\u001b[0;34m'b'\u001b[0m\u001b[0;34m)\u001b[0m\u001b[0;34m[\u001b[0m\u001b[0;36m0\u001b[0m\u001b[0;34m]\u001b[0m\u001b[0;34m.\u001b[0m\u001b[0mcontent\u001b[0m\u001b[0;34m\u001b[0m\u001b[0m\n\u001b[1;32m     25\u001b[0m             \u001b[0mbeerURL\u001b[0m \u001b[0;34m=\u001b[0m \u001b[0mURL\u001b[0m\u001b[0;34m(\u001b[0m\u001b[0mmainSite\u001b[0m \u001b[0;34m+\u001b[0m \u001b[0mbeerBit\u001b[0m\u001b[0;34m.\u001b[0m\u001b[0mattributes\u001b[0m\u001b[0;34m[\u001b[0m\u001b[0;34m'href'\u001b[0m\u001b[0;34m]\u001b[0m\u001b[0;34m)\u001b[0m\u001b[0;34m\u001b[0m\u001b[0m\n\u001b[0;32m---> 26\u001b[0;31m             \u001b[0mbeerDOM\u001b[0m \u001b[0;34m=\u001b[0m \u001b[0mDocument\u001b[0m\u001b[0;34m(\u001b[0m\u001b[0mbeerURL\u001b[0m\u001b[0;34m.\u001b[0m\u001b[0mdownload\u001b[0m\u001b[0;34m(\u001b[0m\u001b[0;34m)\u001b[0m\u001b[0;34m)\u001b[0m\u001b[0;34m\u001b[0m\u001b[0m\n\u001b[0m\u001b[1;32m     27\u001b[0m             \u001b[0meachLine\u001b[0m \u001b[0;34m=\u001b[0m \u001b[0;34m[\u001b[0m\u001b[0meachStyle\u001b[0m\u001b[0;34m.\u001b[0m\u001b[0mcontent\u001b[0m\u001b[0;34m.\u001b[0m\u001b[0mencode\u001b[0m\u001b[0;34m(\u001b[0m\u001b[0;34m'utf-8'\u001b[0m\u001b[0;34m)\u001b[0m\u001b[0;34m,\u001b[0m \u001b[0mbeerName\u001b[0m\u001b[0;34m.\u001b[0m\u001b[0mencode\u001b[0m\u001b[0;34m(\u001b[0m\u001b[0;34m'utf-8'\u001b[0m\u001b[0;34m)\u001b[0m\u001b[0;34m]\u001b[0m\u001b[0;34m\u001b[0m\u001b[0m\n\u001b[1;32m     28\u001b[0m             \u001b[0;32mfor\u001b[0m \u001b[0maClass\u001b[0m \u001b[0;32min\u001b[0m \u001b[0mclassPullList\u001b[0m\u001b[0;34m:\u001b[0m\u001b[0;34m\u001b[0m\u001b[0m\n",
        "\u001b[0;32m/usr/local/lib/python2.7/dist-packages/pattern/web/__init__.pyc\u001b[0m in \u001b[0;36mdownload\u001b[0;34m(self, timeout, cached, throttle, proxy, user_agent, referrer, authentication, unicode, **kwargs)\u001b[0m\n\u001b[1;32m    435\u001b[0m         \u001b[0;31m# Open a connection with the given settings, read it and (by default) cache the data.\u001b[0m\u001b[0;34m\u001b[0m\u001b[0;34m\u001b[0m\u001b[0m\n\u001b[1;32m    436\u001b[0m         \u001b[0;32mtry\u001b[0m\u001b[0;34m:\u001b[0m\u001b[0;34m\u001b[0m\u001b[0m\n\u001b[0;32m--> 437\u001b[0;31m             \u001b[0mdata\u001b[0m \u001b[0;34m=\u001b[0m \u001b[0mself\u001b[0m\u001b[0;34m.\u001b[0m\u001b[0mopen\u001b[0m\u001b[0;34m(\u001b[0m\u001b[0mtimeout\u001b[0m\u001b[0;34m,\u001b[0m \u001b[0mproxy\u001b[0m\u001b[0;34m,\u001b[0m \u001b[0muser_agent\u001b[0m\u001b[0;34m,\u001b[0m \u001b[0mreferrer\u001b[0m\u001b[0;34m,\u001b[0m \u001b[0mauthentication\u001b[0m\u001b[0;34m)\u001b[0m\u001b[0;34m.\u001b[0m\u001b[0mread\u001b[0m\u001b[0;34m(\u001b[0m\u001b[0;34m)\u001b[0m\u001b[0;34m\u001b[0m\u001b[0m\n\u001b[0m\u001b[1;32m    438\u001b[0m         \u001b[0;32mexcept\u001b[0m \u001b[0msocket\u001b[0m\u001b[0;34m.\u001b[0m\u001b[0mtimeout\u001b[0m\u001b[0;34m,\u001b[0m \u001b[0me\u001b[0m\u001b[0;34m:\u001b[0m\u001b[0;34m\u001b[0m\u001b[0m\n\u001b[1;32m    439\u001b[0m             \u001b[0;32mraise\u001b[0m \u001b[0mURLTimeout\u001b[0m\u001b[0;34m(\u001b[0m\u001b[0msrc\u001b[0m\u001b[0;34m=\u001b[0m\u001b[0me\u001b[0m\u001b[0;34m,\u001b[0m \u001b[0murl\u001b[0m\u001b[0;34m=\u001b[0m\u001b[0mself\u001b[0m\u001b[0;34m.\u001b[0m\u001b[0mstring\u001b[0m\u001b[0;34m)\u001b[0m\u001b[0;34m\u001b[0m\u001b[0m\n",
        "\u001b[0;32m/usr/local/lib/python2.7/dist-packages/pattern/web/__init__.pyc\u001b[0m in \u001b[0;36mopen\u001b[0;34m(self, timeout, proxy, user_agent, referrer, authentication)\u001b[0m\n\u001b[1;32m    408\u001b[0m             \u001b[0;32mor\u001b[0m \u001b[0;34m\"timed out\"\u001b[0m \u001b[0;32min\u001b[0m \u001b[0me\u001b[0m\u001b[0;34m.\u001b[0m\u001b[0mreason\u001b[0m\u001b[0;34m:\u001b[0m\u001b[0;34m\u001b[0m\u001b[0m\n\u001b[1;32m    409\u001b[0m                 \u001b[0;32mraise\u001b[0m \u001b[0mURLTimeout\u001b[0m\u001b[0;34m(\u001b[0m\u001b[0msrc\u001b[0m\u001b[0;34m=\u001b[0m\u001b[0me\u001b[0m\u001b[0;34m,\u001b[0m \u001b[0murl\u001b[0m\u001b[0;34m=\u001b[0m\u001b[0murl\u001b[0m\u001b[0;34m)\u001b[0m\u001b[0;34m\u001b[0m\u001b[0m\n\u001b[0;32m--> 410\u001b[0;31m             \u001b[0;32mraise\u001b[0m \u001b[0mURLError\u001b[0m\u001b[0;34m(\u001b[0m\u001b[0mstr\u001b[0m\u001b[0;34m(\u001b[0m\u001b[0me\u001b[0m\u001b[0;34m)\u001b[0m\u001b[0;34m,\u001b[0m \u001b[0msrc\u001b[0m\u001b[0;34m=\u001b[0m\u001b[0me\u001b[0m\u001b[0;34m,\u001b[0m \u001b[0murl\u001b[0m\u001b[0;34m=\u001b[0m\u001b[0murl\u001b[0m\u001b[0;34m)\u001b[0m\u001b[0;34m\u001b[0m\u001b[0m\n\u001b[0m\u001b[1;32m    411\u001b[0m         \u001b[0;32mexcept\u001b[0m \u001b[0mValueError\u001b[0m\u001b[0;34m,\u001b[0m \u001b[0me\u001b[0m\u001b[0;34m:\u001b[0m\u001b[0;34m\u001b[0m\u001b[0m\n\u001b[1;32m    412\u001b[0m             \u001b[0;32mraise\u001b[0m \u001b[0mURLError\u001b[0m\u001b[0;34m(\u001b[0m\u001b[0mstr\u001b[0m\u001b[0;34m(\u001b[0m\u001b[0me\u001b[0m\u001b[0;34m)\u001b[0m\u001b[0;34m,\u001b[0m \u001b[0msrc\u001b[0m\u001b[0;34m=\u001b[0m\u001b[0me\u001b[0m\u001b[0;34m,\u001b[0m \u001b[0murl\u001b[0m\u001b[0;34m=\u001b[0m\u001b[0murl\u001b[0m\u001b[0;34m)\u001b[0m\u001b[0;34m\u001b[0m\u001b[0m\n",
        "\u001b[0;31mURLError\u001b[0m: <urlopen error [Errno -2] Name or service not known>"
       ]
      }
     ],
     "prompt_number": 18
    },
    {
     "cell_type": "code",
     "collapsed": false,
     "input": [
      "beerData.close()"
     ],
     "language": "python",
     "metadata": {},
     "outputs": []
    },
    {
     "cell_type": "code",
     "collapsed": false,
     "input": [],
     "language": "python",
     "metadata": {},
     "outputs": []
    }
   ],
   "metadata": {}
  }
 ]
}